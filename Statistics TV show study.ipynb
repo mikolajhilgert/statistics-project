{
 "cells": [
  {
   "cell_type": "markdown",
   "metadata": {},
   "source": [
    "# Statistics TV shows study"
   ]
  },
  {
   "cell_type": "markdown",
   "metadata": {},
   "source": [
    "##### Bohdan Tymofieienko, B. S. \n",
    "###### btymofieienko@student.fontys.nl\n",
    "##### Mikolaj Hilgert, M. A. \n",
    "###### m.hilgert@student.fontys.nl\n",
    "\n",
    "\n",
    "##### 19 March 2022"
   ]
  },
  {
   "cell_type": "markdown",
   "metadata": {},
   "source": [
    "### 1. Table of Contents <a class=\"anchor\" id=\"chapter1\"></a>\n",
    "\n",
    "\n",
    "* [1. Table of Contents](#chapter1)\n",
    "* [2. Revision history](#chapter2)\n",
    "* [3. Abstract](#chapter3)\n",
    "* [4. Introduction](#chapter4)\n",
    "* [5. Questions](#chapter5)\n",
    "* [6. Methodology](#chapter6)\n",
    "* [7. Analysis](#chapter7)\n",
    "* [8. Reasoning with Data](#chapter8)\n",
    "* [9. Conclusion](#chapter9)\n",
    "* [10. Bibliography](#chapter10)"
   ]
  },
  {
   "cell_type": "markdown",
   "metadata": {},
   "source": [
    "### 2. Revision history <a class=\"anchor\" id=\"chapter2\"></a>\n",
    "\n",
    "| Version | Author          | Date  | Change                                       |\n",
    "|---------|-----------------|-------|----------------------------------------------|\n",
    "| 0.1     | Bohdan, Mikolaj | 17.02 | Added table of contents and draft questions. |\n",
    "| 0.1.1   | Bohdan | 19.02 | Added paragraphs(TBA). Added introduction and dataset |\n",
    "| 0.2   | Bohdan, Mikolaj | 12.03 | Added hypothesis testing. Added visualization. |\n",
    "| 0.2.1   | Bohdan, Mikolaj | 17.03 |  Added more visualization. |\n",
    "| 1.0  | Bohdan, Mikolaj | 19.03 |  Added analysis, conclusion, abstract. |\n"
   ]
  },
  {
   "cell_type": "markdown",
   "metadata": {},
   "source": [
    "### 3. Abstract <a class=\"anchor\" id=\"chapter3\"></a>\n",
    "\n",
    "We had a thought that TV shows tend to get worse with the time, this lead us to come up with the following question and conduct the study. It aims to discover **to what extent does a TV series's life-span affect viewer perception for top rated shows**. We implemented a web scrapper and collected data from IMDB. We were able to derive and test another related sub-question. We assessed the question using hypothesis testing. We were not able to find any correlation between life-span of the TV show and it's rating. We tend to think there might exist more significant factors that affect viewer-perception which are outside the scope of this study."
   ]
  },
  {
   "cell_type": "markdown",
   "metadata": {},
   "source": [
    "### 4. Introduction  <a class=\"anchor\" id=\"chapter4\"></a>\n",
    "\n",
    "It is often said that TV series are getting worse and worse with time. We decided to verify this statement in our own research. We will be using statistical methods to find a correlation between the longevity of the TV show and viewer perception. Since there might exist multiple reasons why this statement can be valid or wrong we will have to construct multiple hypotheses and perform our analysis."
   ]
  },
  {
   "cell_type": "markdown",
   "metadata": {},
   "source": [
    "### 5. Questions  <a class=\"anchor\" id=\"chapter5\"></a>\n",
    "\n",
    "<ol>\n",
    "<li>To what extent does a TV series's life-span affect viewer perception for top rated shows?</li>\n",
    "<li>Are final episodes rated higher than the rest of the season?</li>\n",
    "</ol>"
   ]
  },
  {
   "cell_type": "markdown",
   "metadata": {},
   "source": [
    "### 6. Methodology  <a class=\"anchor\" id=\"chapter6\"></a>\n",
    "\n",
    "The success and feasibility heavily depended on the availability of data. Datasets available on websites such as Keggle, are often outdated or short of details. \n",
    "Therefore, the data collection was done manually.\n",
    "\n",
    "In the context of this project, it was done using a technique called data/web scraping. Which entails extracting of data from a website/s in an automated fashion.\n",
    "\n",
    "This was done using Python and Beautiful Soup (A HTML parsing library for Python, often used for web-scraping).\n",
    "\n",
    "A script was created to scrape the top 250 pages of TV shows on IMDb which is an online service providing information related to film media.\n",
    "\n",
    "The data extracted contained relevant information to the studies. The raw data collected can be seen in the table below:\n",
    "\n",
    "| ID        | Show Name       | Season | Episode | Episode title | Release Date | Rating | Votes |\n",
    "|-----------|-----------------|--------|---------|---------------|--------------|--------|-------|\n",
    "| tt5491994 | Planet Earth II | 1      | 1       | Islands       | 1 Jan. 2017  | 9.4    | 4,570 |\n",
    "| ...       | ...             | ...    | ...     | ...           | ...          | ...    | ...   |"
   ]
  },
  {
   "cell_type": "markdown",
   "metadata": {},
   "source": [
    "We have decided to construct our hypothesis using the difference of means formula *[1]*. Since we don't know the mean and standard deviation of the population we will use *t value* for analysis.  \n",
    "\n",
    "$$\\large{t = \\frac{(\\hat{x}_1-\\hat{x}_2)-(\\mu_1-\\mu_2)}{\\sqrt{\\frac{S_1^2}{n_1}+\\frac{S_2^2}{n_2}}}}$$\n",
    "\n",
    "Using the attained t value and the degree freedom *[2]* we will calculate the *p-value*, which we will use to evaluate our hypothesis at the 5% confidence level. \n",
    "\n",
    "$$\\large  df = \\frac{\\left(\\frac{S_1^2}{n_1}+\\frac{S_2^2}{n_2}\\right)^2}{\\frac{\\left(\\frac{S_1^2}{n_1}\\right)^2}{n_1-1}+\\frac{\\left(\\frac{S_2^2}{n_2}\\right)^2}{n_2-1}}$$"
   ]
  },
  {
   "cell_type": "markdown",
   "metadata": {},
   "source": [
    "### 7. Analysis <a class=\"anchor\" id=\"chapter7\"></a>"
   ]
  },
  {
   "cell_type": "markdown",
   "metadata": {},
   "source": [
    "#### 7.1 TV-series lifespan\n",
    "\n",
    "**Rationale for hypothesis test:** <br>\n",
    "In order to conclude whether life-span of TV shows affects rating we split our sample into two groups. The grouping was done based on the show lengths, namely a group for short TV-shows (<= 5 seasons) and long TV-shows (> 5 seasons). This was done to investigate whether the length of the TV show correlates with the average ratings in comparison of two groups. \n",
    "\n",
    "In order to describe the trend of the rating for a given show, we chose to compare the averages of the first and latest season of the show. This is described hereafter as the Difference. As this is calculated by Mean(first season) - Mean(latest season). <br> \n",
    "\n",
    "**Hypothesis:**<br>\n",
    "Let $\\Delta_s$ be equal to rating difference between first and last seasons of a TV show. <br><br>\n",
    "<center>\n",
    "$$\n",
    "\\begin{cases}\n",
    "H_0: \\mu_{\\Delta_{long}}  = \\mu_{\\Delta_{short}} \\\\\n",
    "H_\\alpha : \\mu_{\\Delta_{long}} < \\mu_{\\Delta_{short}} \\\\\n",
    "\\end{cases} \n",
    "$$\n",
    "</center>"
   ]
  },
  {
   "cell_type": "code",
   "execution_count": 26,
   "metadata": {
    "scrolled": true
   },
   "outputs": [
    {
     "data": {
      "text/html": [
       "<div>\n",
       "<style scoped>\n",
       "    .dataframe tbody tr th:only-of-type {\n",
       "        vertical-align: middle;\n",
       "    }\n",
       "\n",
       "    .dataframe tbody tr th {\n",
       "        vertical-align: top;\n",
       "    }\n",
       "\n",
       "    .dataframe thead th {\n",
       "        text-align: right;\n",
       "    }\n",
       "</style>\n",
       "<table border=\"1\" class=\"dataframe\">\n",
       "  <thead>\n",
       "    <tr style=\"text-align: right;\">\n",
       "      <th></th>\n",
       "      <th>Unnamed: 0</th>\n",
       "      <th>ID</th>\n",
       "      <th>ShowName</th>\n",
       "      <th>Season</th>\n",
       "      <th>Episode</th>\n",
       "      <th>Name</th>\n",
       "      <th>Date</th>\n",
       "      <th>Rating</th>\n",
       "      <th>Votes</th>\n",
       "    </tr>\n",
       "  </thead>\n",
       "  <tbody>\n",
       "    <tr>\n",
       "      <th>0</th>\n",
       "      <td>0</td>\n",
       "      <td>tt0903747</td>\n",
       "      <td>Breaking Bad</td>\n",
       "      <td>1.0</td>\n",
       "      <td>1</td>\n",
       "      <td>Pilot</td>\n",
       "      <td>2 Jan. 2012</td>\n",
       "      <td>9.0</td>\n",
       "      <td>(31,524)</td>\n",
       "    </tr>\n",
       "    <tr>\n",
       "      <th>1</th>\n",
       "      <td>1</td>\n",
       "      <td>tt0903747</td>\n",
       "      <td>Breaking Bad</td>\n",
       "      <td>1.0</td>\n",
       "      <td>2</td>\n",
       "      <td>Cat's in the Bag...</td>\n",
       "      <td>3 Jan. 2012</td>\n",
       "      <td>8.6</td>\n",
       "      <td>(23,052)</td>\n",
       "    </tr>\n",
       "    <tr>\n",
       "      <th>2</th>\n",
       "      <td>2</td>\n",
       "      <td>tt0903747</td>\n",
       "      <td>Breaking Bad</td>\n",
       "      <td>1.0</td>\n",
       "      <td>3</td>\n",
       "      <td>...And the Bag's in the River</td>\n",
       "      <td>4 Jan. 2012</td>\n",
       "      <td>8.7</td>\n",
       "      <td>(22,368)</td>\n",
       "    </tr>\n",
       "    <tr>\n",
       "      <th>3</th>\n",
       "      <td>3</td>\n",
       "      <td>tt0903747</td>\n",
       "      <td>Breaking Bad</td>\n",
       "      <td>1.0</td>\n",
       "      <td>4</td>\n",
       "      <td>Cancer Man</td>\n",
       "      <td>5 Jan. 2012</td>\n",
       "      <td>8.2</td>\n",
       "      <td>(21,612)</td>\n",
       "    </tr>\n",
       "    <tr>\n",
       "      <th>4</th>\n",
       "      <td>4</td>\n",
       "      <td>tt0903747</td>\n",
       "      <td>Breaking Bad</td>\n",
       "      <td>1.0</td>\n",
       "      <td>5</td>\n",
       "      <td>Gray Matter</td>\n",
       "      <td>6 Jan. 2012</td>\n",
       "      <td>8.3</td>\n",
       "      <td>(21,229)</td>\n",
       "    </tr>\n",
       "  </tbody>\n",
       "</table>\n",
       "</div>"
      ],
      "text/plain": [
       "   Unnamed: 0         ID      ShowName  Season  Episode  \\\n",
       "0           0  tt0903747  Breaking Bad     1.0        1   \n",
       "1           1  tt0903747  Breaking Bad     1.0        2   \n",
       "2           2  tt0903747  Breaking Bad     1.0        3   \n",
       "3           3  tt0903747  Breaking Bad     1.0        4   \n",
       "4           4  tt0903747  Breaking Bad     1.0        5   \n",
       "\n",
       "                            Name         Date  Rating     Votes  \n",
       "0                          Pilot  2 Jan. 2012     9.0  (31,524)  \n",
       "1            Cat's in the Bag...  3 Jan. 2012     8.6  (23,052)  \n",
       "2  ...And the Bag's in the River  4 Jan. 2012     8.7  (22,368)  \n",
       "3                     Cancer Man  5 Jan. 2012     8.2  (21,612)  \n",
       "4                    Gray Matter  6 Jan. 2012     8.3  (21,229)  "
      ]
     },
     "execution_count": 26,
     "metadata": {},
     "output_type": "execute_result"
    }
   ],
   "source": [
    "import pandas as pd\n",
    "import matplotlib.pyplot as plt\n",
    "import seaborn as sns\n",
    "from matplotlib.pyplot import figure\n",
    "import numpy as np\n",
    "import scipy.stats\n",
    "import math\n",
    "\n",
    "\n",
    "df = pd.read_csv(\"250shows.csv\")\n",
    "df.head()"
   ]
  },
  {
   "cell_type": "markdown",
   "metadata": {},
   "source": [
    "Below you may find a sample of 4 TV show's scatter plots to get a sense what the raw data looks like.  "
   ]
  },
  {
   "cell_type": "markdown",
   "metadata": {},
   "source": [
    "<img align =\"left\" src=\"graphs.png\" alt=\"Drawing\" style=\"width: 700px;\"/>"
   ]
  },
  {
   "cell_type": "code",
   "execution_count": 27,
   "metadata": {},
   "outputs": [],
   "source": [
    "Difference_df = pd.read_csv(\"difference_df.csv\")"
   ]
  },
  {
   "cell_type": "markdown",
   "metadata": {},
   "source": [
    "below you can observe the relation between seasons number and difference of seasons ratings. It is quite clear that except some outliers, most of the TV shows are situated in the upper right corner which indicates that they have improved or kept their rating since first season."
   ]
  },
  {
   "cell_type": "code",
   "execution_count": 28,
   "metadata": {},
   "outputs": [
    {
     "data": {
      "image/png": "[encoded data removed]",
      "text/plain": [
       "<Figure size 1040x480 with 1 Axes>"
      ]
     },
     "metadata": {
      "needs_background": "light"
     },
     "output_type": "display_data"
    }
   ],
   "source": [
    "figure(figsize=(13, 6), dpi=80)\n",
    "\n",
    "sns.scatterplot(data = Difference_df, x =\"Seasons\", y= \"Difference\", s = 100)\n",
    "plt.grid()"
   ]
  },
  {
   "cell_type": "code",
   "execution_count": 29,
   "metadata": {},
   "outputs": [],
   "source": [
    "long_df, short_df  = [x for _, x in Difference_df.groupby(Difference_df['Seasons'] <= 5.0)]\n",
    "long_df = long_df.reset_index()\n",
    "short_df = short_df.reset_index()"
   ]
  },
  {
   "cell_type": "markdown",
   "metadata": {},
   "source": [
    "Following chart is approximation of the probability density function graph. We can conclude that distribution is somewhat normal with no high outliers on left or right. You can see that some data points seem to be minor outliers (Such as at -4 or -2). "
   ]
  },
  {
   "cell_type": "code",
   "execution_count": 30,
   "metadata": {},
   "outputs": [
    {
     "data": {
      "text/plain": [
       "<AxesSubplot:ylabel='Density'>"
      ]
     },
     "execution_count": 30,
     "metadata": {},
     "output_type": "execute_result"
    },
    {
     "data": {
      "image/png": "[encoded data removed]",
      "text/plain": [
       "<Figure size 1120x480 with 1 Axes>"
      ]
     },
     "metadata": {
      "needs_background": "light"
     },
     "output_type": "display_data"
    }
   ],
   "source": [
    "figure(figsize=(14, 6), dpi=80)\n",
    "Difference_grouped_df = Difference_df.groupby(\"Difference\").size()\n",
    "# Difference_grouped_df.plot(kind=\"bar\", rot = 90, yticks = np.arange(0, 22, 2))\n",
    "\n",
    "Difference_df[\"Difference\"].plot.kde()"
   ]
  },
  {
   "cell_type": "markdown",
   "metadata": {},
   "source": [
    "From the given graph we can see that distributions of two groups (less than 5 seasons and more) are somewhat normal. Important detail to notice is that their means almost coincide which may indicate that there is no difference between difference of ratings of long and short TV shows."
   ]
  },
  {
   "cell_type": "code",
   "execution_count": 31,
   "metadata": {},
   "outputs": [
    {
     "data": {
      "image/png": "[encoded data removed]",
      "text/plain": [
       "<Figure size 1008x432 with 1 Axes>"
      ]
     },
     "metadata": {
      "needs_background": "light"
     },
     "output_type": "display_data"
    }
   ],
   "source": [
    "kde_df = pd.DataFrame({\n",
    "    'short': Difference_df[Difference_df[\"Seasons\"] <= 5][\"Difference\"],\n",
    "    'long': Difference_df[Difference_df[\"Seasons\"] > 5][\"Difference\"],\n",
    "})\n",
    "ax = kde_df.plot.kde(figsize=(14,6))"
   ]
  },
  {
   "cell_type": "code",
   "execution_count": 32,
   "metadata": {
    "scrolled": true
   },
   "outputs": [
    {
     "data": {
      "text/plain": [
       "-0.017860105798505235"
      ]
     },
     "execution_count": 32,
     "metadata": {},
     "output_type": "execute_result"
    }
   ],
   "source": [
    "Difference_df[\"Difference\"].mean()"
   ]
  },
  {
   "cell_type": "markdown",
   "metadata": {},
   "source": [
    "#### Descriptive analysis"
   ]
  },
  {
   "cell_type": "code",
   "execution_count": 33,
   "metadata": {},
   "outputs": [],
   "source": [
    "short_df = Difference_df[Difference_df['Seasons'] <= 5.0]\n",
    "long_df = Difference_df[Difference_df['Seasons'] > 5.0]"
   ]
  },
  {
   "cell_type": "code",
   "execution_count": 34,
   "metadata": {
    "scrolled": true
   },
   "outputs": [
    {
     "name": "stdout",
     "output_type": "stream",
     "text": [
      "Short TV shows (<= 5 seasons)\n",
      "Mean: 0.04685135096241909\n",
      "Standard deviation: 0.48987977793787724\n"
     ]
    }
   ],
   "source": [
    "short_df_mean = short_df['Difference'].mean()\n",
    "short_df_std = short_df['Difference'].std()\n",
    "\n",
    "print(\"Short TV shows (<= 5 seasons)\")\n",
    "print(\"Mean:\" , short_df_mean)\n",
    "print(\"Standard deviation:\" , short_df_std)"
   ]
  },
  {
   "cell_type": "code",
   "execution_count": 35,
   "metadata": {},
   "outputs": [
    {
     "name": "stdout",
     "output_type": "stream",
     "text": [
      "Long TV shows (> 5 seasons)\n",
      "Mean: -0.12606614825119833\n",
      "Standard deviation: 0.8678152067851161\n"
     ]
    }
   ],
   "source": [
    "long_df_mean = long_df['Difference'].mean()\n",
    "long_df_std = long_df['Difference'].std()\n",
    "\n",
    "print(\"Long TV shows (> 5 seasons)\")\n",
    "print(\"Mean:\" , long_df_mean)\n",
    "print(\"Standard deviation:\" , long_df_std )"
   ]
  },
  {
   "cell_type": "markdown",
   "metadata": {},
   "source": [
    "#### Calculating t value"
   ]
  },
  {
   "cell_type": "code",
   "execution_count": 36,
   "metadata": {},
   "outputs": [
    {
     "data": {
      "text/plain": [
       "-1.2535118180508542"
      ]
     },
     "execution_count": 36,
     "metadata": {},
     "output_type": "execute_result"
    }
   ],
   "source": [
    "t_value = (long_df_mean - short_df_mean) / math.sqrt( long_df_std / len(long_df) + short_df_std / len(short_df))\n",
    "t_value"
   ]
  },
  {
   "cell_type": "code",
   "execution_count": 37,
   "metadata": {},
   "outputs": [
    {
     "data": {
      "text/plain": [
       "59.98804199707485"
      ]
     },
     "execution_count": 37,
     "metadata": {},
     "output_type": "execute_result"
    }
   ],
   "source": [
    "deg_freedom = len(long_df) + len(short_df) - 2\n",
    "\n",
    "numerator = ((short_df_std ** 2) /len(short_df) + (long_df_std ** 2)/len(long_df)) **2\n",
    "denom_left = (((short_df_std**2) / (len(short_df))**2) / (len(short_df) - 1))\n",
    "denom_right = (((long_df_std**2) / (len(long_df))**2) / (len(long_df) - 1))\n",
    "\n",
    "deg_freedom = numerator/(denom_left + denom_right)\n",
    "deg_freedom"
   ]
  },
  {
   "cell_type": "markdown",
   "metadata": {},
   "source": [
    "#### Calculating p value"
   ]
  },
  {
   "cell_type": "code",
   "execution_count": 38,
   "metadata": {},
   "outputs": [
    {
     "data": {
      "text/plain": [
       "0.1074415033914391"
      ]
     },
     "execution_count": 38,
     "metadata": {},
     "output_type": "execute_result"
    }
   ],
   "source": [
    "#find p-value\n",
    "scipy.stats.t.sf(abs(t_value), df=deg_freedom)"
   ]
  },
  {
   "cell_type": "markdown",
   "metadata": {},
   "source": [
    "At confidence level 0.05, 0.10 is not less than 0.05. Therefore we cannot reject $H_0$."
   ]
  },
  {
   "cell_type": "markdown",
   "metadata": {},
   "source": [
    "#### 7.2 Last episode rating\n",
    "\n",
    "**Rationale for hypothesis test:** <br>\n",
    "\n",
    "While observing the dataset first time we made an assumption that last episode of each season has a higher rating than the rest of the season. We wanted to verify this numerically and thus constructed a hypothesis. In order to get a measure of rating for the rest of the season we take a mean and compare it to the value of the last episode. If it happens to be true then it might mean that the last episode inflates the season average.\n",
    "\n",
    "**Hypothesis:**<br>\n",
    "Let $X_{1..n}$ be a list of ratings of an arbitrary TV show. Then let $X_{1..(n-1)}$ represent the rating of all the episodes except last one and $X_{n}$ represent the rating of the last episode. <br>\n",
    "\n",
    "$$\n",
    "\\begin{cases}\n",
    "H_0: \\mu_{X_{1..(n-1)}} = \\mu_{X_{n}} \\\\\n",
    "H_\\alpha: \\mu_{X_{1..(n-1)}} < \\mu_{X_{n}} \\\\\n",
    "\\end{cases} \n",
    "$$"
   ]
  },
  {
   "cell_type": "code",
   "execution_count": 39,
   "metadata": {
    "tags": [
     "hide-input"
    ]
   },
   "outputs": [
    {
     "data": {
      "text/html": [
       "<div>\n",
       "<style scoped>\n",
       "    .dataframe tbody tr th:only-of-type {\n",
       "        vertical-align: middle;\n",
       "    }\n",
       "\n",
       "    .dataframe tbody tr th {\n",
       "        vertical-align: top;\n",
       "    }\n",
       "\n",
       "    .dataframe thead th {\n",
       "        text-align: right;\n",
       "    }\n",
       "</style>\n",
       "<table border=\"1\" class=\"dataframe\">\n",
       "  <thead>\n",
       "    <tr style=\"text-align: right;\">\n",
       "      <th></th>\n",
       "      <th>Unnamed: 0</th>\n",
       "      <th>ID</th>\n",
       "      <th>ShowName</th>\n",
       "      <th>Season</th>\n",
       "      <th>EpAvg</th>\n",
       "      <th>LastEp</th>\n",
       "    </tr>\n",
       "  </thead>\n",
       "  <tbody>\n",
       "    <tr>\n",
       "      <th>0</th>\n",
       "      <td>0</td>\n",
       "      <td>tt0903747</td>\n",
       "      <td>['Breaking Bad']</td>\n",
       "      <td>1.0</td>\n",
       "      <td>8.683333</td>\n",
       "      <td>8.8</td>\n",
       "    </tr>\n",
       "    <tr>\n",
       "      <th>1</th>\n",
       "      <td>1</td>\n",
       "      <td>tt0903747</td>\n",
       "      <td>['Breaking Bad']</td>\n",
       "      <td>2.0</td>\n",
       "      <td>8.766667</td>\n",
       "      <td>9.2</td>\n",
       "    </tr>\n",
       "    <tr>\n",
       "      <th>2</th>\n",
       "      <td>2</td>\n",
       "      <td>tt0903747</td>\n",
       "      <td>['Breaking Bad']</td>\n",
       "      <td>3.0</td>\n",
       "      <td>8.691667</td>\n",
       "      <td>9.6</td>\n",
       "    </tr>\n",
       "    <tr>\n",
       "      <th>3</th>\n",
       "      <td>3</td>\n",
       "      <td>tt0903747</td>\n",
       "      <td>['Breaking Bad']</td>\n",
       "      <td>4.0</td>\n",
       "      <td>8.900000</td>\n",
       "      <td>9.9</td>\n",
       "    </tr>\n",
       "    <tr>\n",
       "      <th>4</th>\n",
       "      <td>4</td>\n",
       "      <td>tt0903747</td>\n",
       "      <td>['Breaking Bad']</td>\n",
       "      <td>5.0</td>\n",
       "      <td>9.340000</td>\n",
       "      <td>9.9</td>\n",
       "    </tr>\n",
       "    <tr>\n",
       "      <th>...</th>\n",
       "      <td>...</td>\n",
       "      <td>...</td>\n",
       "      <td>...</td>\n",
       "      <td>...</td>\n",
       "      <td>...</td>\n",
       "      <td>...</td>\n",
       "    </tr>\n",
       "    <tr>\n",
       "      <th>919</th>\n",
       "      <td>919</td>\n",
       "      <td>tt0310455</td>\n",
       "      <td>[\"Foyle's War\"]</td>\n",
       "      <td>4.0</td>\n",
       "      <td>8.233333</td>\n",
       "      <td>8.1</td>\n",
       "    </tr>\n",
       "    <tr>\n",
       "      <th>920</th>\n",
       "      <td>920</td>\n",
       "      <td>tt0310455</td>\n",
       "      <td>[\"Foyle's War\"]</td>\n",
       "      <td>5.0</td>\n",
       "      <td>8.350000</td>\n",
       "      <td>8.5</td>\n",
       "    </tr>\n",
       "    <tr>\n",
       "      <th>921</th>\n",
       "      <td>921</td>\n",
       "      <td>tt0310455</td>\n",
       "      <td>[\"Foyle's War\"]</td>\n",
       "      <td>6.0</td>\n",
       "      <td>8.000000</td>\n",
       "      <td>8.9</td>\n",
       "    </tr>\n",
       "    <tr>\n",
       "      <th>922</th>\n",
       "      <td>922</td>\n",
       "      <td>tt0310455</td>\n",
       "      <td>[\"Foyle's War\"]</td>\n",
       "      <td>7.0</td>\n",
       "      <td>8.300000</td>\n",
       "      <td>8.6</td>\n",
       "    </tr>\n",
       "    <tr>\n",
       "      <th>923</th>\n",
       "      <td>923</td>\n",
       "      <td>tt0310455</td>\n",
       "      <td>[\"Foyle's War\"]</td>\n",
       "      <td>8.0</td>\n",
       "      <td>8.400000</td>\n",
       "      <td>9.0</td>\n",
       "    </tr>\n",
       "  </tbody>\n",
       "</table>\n",
       "<p>924 rows × 6 columns</p>\n",
       "</div>"
      ],
      "text/plain": [
       "     Unnamed: 0         ID          ShowName  Season     EpAvg  LastEp\n",
       "0             0  tt0903747  ['Breaking Bad']     1.0  8.683333     8.8\n",
       "1             1  tt0903747  ['Breaking Bad']     2.0  8.766667     9.2\n",
       "2             2  tt0903747  ['Breaking Bad']     3.0  8.691667     9.6\n",
       "3             3  tt0903747  ['Breaking Bad']     4.0  8.900000     9.9\n",
       "4             4  tt0903747  ['Breaking Bad']     5.0  9.340000     9.9\n",
       "..          ...        ...               ...     ...       ...     ...\n",
       "919         919  tt0310455   [\"Foyle's War\"]     4.0  8.233333     8.1\n",
       "920         920  tt0310455   [\"Foyle's War\"]     5.0  8.350000     8.5\n",
       "921         921  tt0310455   [\"Foyle's War\"]     6.0  8.000000     8.9\n",
       "922         922  tt0310455   [\"Foyle's War\"]     7.0  8.300000     8.6\n",
       "923         923  tt0310455   [\"Foyle's War\"]     8.0  8.400000     9.0\n",
       "\n",
       "[924 rows x 6 columns]"
      ]
     },
     "execution_count": 39,
     "metadata": {},
     "output_type": "execute_result"
    }
   ],
   "source": [
    "LastEpisode_df = pd.read_csv(\"lastEp.csv\")\n",
    "LastEpisode_df"
   ]
  },
  {
   "cell_type": "markdown",
   "metadata": {},
   "source": [
    "We decided to visualize the difference between the rest of the season rating and last episode rating. You could observe that last episode median is higher, however both median lies within the overlap of two boxes which implies that we need to take another step to make a conclusion about their difference. The left box is more consisted around the center value while box on the right has higher range and has large variability. This is due to the reason that one the left you can observe the average and on the right there are single data points.  "
   ]
  },
  {
   "cell_type": "code",
   "execution_count": 40,
   "metadata": {},
   "outputs": [
    {
     "data": {
      "image/png": "[encoded data removed]",
      "text/plain": [
       "<Figure size 1040x480 with 1 Axes>"
      ]
     },
     "metadata": {
      "needs_background": "light"
     },
     "output_type": "display_data"
    }
   ],
   "source": [
    "figure(figsize=(13, 6), dpi=80)\n",
    "s = sns.boxplot(x=\"variable\", y=\"value\", data=pd.melt(LastEpisode_df[[\"EpAvg\",\"LastEp\"]]), showfliers = False)\n",
    "s.set_xlabel(\"Episode\") \n",
    "s.set_ylabel(\"Rating\")\n",
    "plt.show()"
   ]
  },
  {
   "cell_type": "markdown",
   "metadata": {},
   "source": [
    "#### Descriptive analysis"
   ]
  },
  {
   "cell_type": "code",
   "execution_count": 41,
   "metadata": {},
   "outputs": [
    {
     "name": "stdout",
     "output_type": "stream",
     "text": [
      "Rating of all the episodes except last one in each TV show\n",
      "Mean: 8.108224835557552\n",
      "Standard deviation: 0.6128389352354546\n"
     ]
    }
   ],
   "source": [
    "epAvg_mean = LastEpisode_df[\"EpAvg\"].mean()\n",
    "epAvg_std = LastEpisode_df[\"EpAvg\"].std()\n",
    "\n",
    "print(\"Rating of all the episodes except last one in each TV show\")\n",
    "print(\"Mean:\" , epAvg_mean)\n",
    "print(\"Standard deviation:\" , epAvg_std)"
   ]
  },
  {
   "cell_type": "code",
   "execution_count": 42,
   "metadata": {},
   "outputs": [
    {
     "name": "stdout",
     "output_type": "stream",
     "text": [
      "Rating last one in each TV show\n",
      "Mean: 8.410497835497841\n",
      "Standard deviation: 0.9700656013132353\n"
     ]
    }
   ],
   "source": [
    "lastEp_mean = LastEpisode_df[\"LastEp\"].mean()\n",
    "lastEp_std = LastEpisode_df[\"LastEp\"].std()\n",
    "\n",
    "print(\"Rating last one in each TV show\")\n",
    "print(\"Mean:\" , lastEp_mean)\n",
    "print(\"Standard deviation:\" , lastEp_std)"
   ]
  },
  {
   "cell_type": "markdown",
   "metadata": {},
   "source": [
    "#### Calculating t value"
   ]
  },
  {
   "cell_type": "code",
   "execution_count": 43,
   "metadata": {},
   "outputs": [
    {
     "data": {
      "text/plain": [
       "-3.0588047688203166"
      ]
     },
     "execution_count": 43,
     "metadata": {},
     "output_type": "execute_result"
    }
   ],
   "source": [
    "t_value_ep = (epAvg_mean - lastEp_mean) / math.sqrt(epAvg_std / len(LastEpisode_df) + lastEp_mean / len(LastEpisode_df))\n",
    "t_value_ep"
   ]
  },
  {
   "cell_type": "code",
   "execution_count": 44,
   "metadata": {
    "scrolled": false
   },
   "outputs": [
    {
     "data": {
      "text/plain": [
       "923"
      ]
     },
     "execution_count": 44,
     "metadata": {},
     "output_type": "execute_result"
    }
   ],
   "source": [
    "deg_freedom_ep = len(LastEpisode_df) - 1\n",
    "\n",
    "deg_freedom_ep"
   ]
  },
  {
   "cell_type": "markdown",
   "metadata": {},
   "source": [
    "#### Calculating p value"
   ]
  },
  {
   "cell_type": "code",
   "execution_count": 45,
   "metadata": {
    "scrolled": true
   },
   "outputs": [
    {
     "data": {
      "text/plain": [
       "0.001143179368677813"
      ]
     },
     "execution_count": 45,
     "metadata": {},
     "output_type": "execute_result"
    }
   ],
   "source": [
    "#find p-value\n",
    "scipy.stats.t.sf(abs(t_value_ep), df=deg_freedom_ep)"
   ]
  },
  {
   "cell_type": "markdown",
   "metadata": {},
   "source": [
    "At confidence level 0.05, 0.01 is less than 0.05. Therefore we do reject $H_0$."
   ]
  },
  {
   "cell_type": "markdown",
   "metadata": {},
   "source": [
    "### 8. Reasoning with the data <a class=\"anchor\" id=\"chapter8\"></a>"
   ]
  },
  {
   "cell_type": "markdown",
   "metadata": {},
   "source": [
    "Firstly, we were not able to prove that there is a correlation between life-span of a TV show and the rating. In other words the p-value obtained was not significant enough to reject the null hypothesis. Although, our expectation was to reject the hypothesis. Through analysis we actually can see that this cannot be the case. We had an assumption that normally the last episode has rating the the rest of the season, which inflates the overall rating. We were indeed able to prove that this is the case. \n",
    "\n",
    "In general, we presume that life-span of TV show has nothing to do with viewer perception. It is much more likely that more semantic factors such as writing behind the show, cast actors or even possibly budget have a significant affect on rating. These factors were not  taken in consideration in our study. Even though they are extremely complicated or even impossible to quantify, they are arguably the main driving force for show's life-span and success. "
   ]
  },
  {
   "cell_type": "markdown",
   "metadata": {},
   "source": [
    "### 9. Conclusion <a class=\"anchor\" id=\"chapter9\"></a>\n",
    "\n",
    "In conclusion, through visual analysis of obtained graphs and hypothesis testing we were not able to reject the main null hypothesis which proposed that TV shows rating doesn't change significantly with length. However looking at our second hypothesis which discussed rating of the last episode compared to the rest of the season. By rejecting the null hypothesis we found that in general case the last episode is higher rated then other episodes. This could introduce some inflation to the whole season rating. However, we tend to think that there exist some crucial factors outside of the scope of our study that have more significant effect that the length of the TV Show. "
   ]
  },
  {
   "cell_type": "markdown",
   "metadata": {},
   "source": [
    "### 10. Bibliography  <a class=\"anchor\" id=\"chapter10\"></a>\n",
    "\n",
    "*[1] Comparison of Two Means. (2022).  from http://www.stat.yale.edu/Courses/1997-98/101/meancomp.htm <br>\n",
    "[2] (2022). from https://ncss-wpengine.netdna-ssl.com/wp-content/themes/ncss/pdf/Procedures/NCSS/Two-Sample_T-Test.pdf*"
   ]
  }
 ],
 "metadata": {
  "kernelspec": {
   "display_name": "Python 3",
   "language": "python",
   "name": "python3"
  },
  "language_info": {
   "codemirror_mode": {
    "name": "ipython",
    "version": 3
   },
   "file_extension": ".py",
   "mimetype": "text/x-python",
   "name": "python",
   "nbconvert_exporter": "python",
   "pygments_lexer": "ipython3",
   "version": "3.8.8"
  }
 },
 "nbformat": 4,
 "nbformat_minor": 4
}
